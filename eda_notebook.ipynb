{
 "cells": [
  {
   "cell_type": "markdown",
   "id": "6205ed52",
   "metadata": {},
   "source": [
    "Author: Stacey Olson  \n",
    "Project: datafun-04-eda  \n",
    "Date: September 2025"
   ]
  },
  {
   "cell_type": "code",
   "execution_count": 4,
   "id": "184264b4",
   "metadata": {},
   "outputs": [
    {
     "name": "stdout",
     "output_type": "stream",
     "text": [
      "Hello from my EDA notebook!\n",
      "pandas version: 2.3.2\n"
     ]
    }
   ],
   "source": [
    "import pandas as pd\n",
    "\n",
    "print(\"Hello from my EDA notebook!\")\n",
    "print(\"pandas version:\", pd.__version__)"
   ]
  }
 ],
 "metadata": {
  "kernelspec": {
   "display_name": ".venv (3.13.7)",
   "language": "python",
   "name": "python3"
  },
  "language_info": {
   "codemirror_mode": {
    "name": "ipython",
    "version": 3
   },
   "file_extension": ".py",
   "mimetype": "text/x-python",
   "name": "python",
   "nbconvert_exporter": "python",
   "pygments_lexer": "ipython3",
   "version": "3.13.7"
  }
 },
 "nbformat": 4,
 "nbformat_minor": 5
}
