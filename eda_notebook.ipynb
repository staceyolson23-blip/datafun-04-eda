{
 "cells": [
  {
   "cell_type": "code",
   "execution_count": null,
   "id": "184264b4",
   "metadata": {},
   "outputs": [],
   "source": [
    "import pandas as pd\n",
    "print(\"Hello from my new notebook!\")\n",
    "pd.DataFrame({\"fruit\": [\"apple\", \"banana\", \"cherry\"], \"qty\": [3, 5, 2]})"
   ]
  }
 ],
 "metadata": {
  "kernelspec": {
   "display_name": ".venv (3.13.7)",
   "language": "python",
   "name": "python3"
  },
  "language_info": {
   "name": "python",
   "version": "3.13.7"
  }
 },
 "nbformat": 4,
 "nbformat_minor": 5
}
