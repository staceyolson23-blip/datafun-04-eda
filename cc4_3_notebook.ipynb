{
 "cells": [
  {
   "cell_type": "markdown",
   "id": "e122137d",
   "metadata": {},
   "source": [
    "This is my first CC4.3 test notebook"
   ]
  },
  {
   "cell_type": "code",
   "execution_count": null,
   "id": "9c2321c3",
   "metadata": {},
   "outputs": [],
   "source": [
    "import pandas as pd\n",
    "print(\"Starting out with Jupyter.\")\n",
    "print(\"pandas version:\", pd.__version__)"
   ]
  }
 ],
 "metadata": {
  "kernelspec": {
   "display_name": ".venv (3.13.7)",
   "language": "python",
   "name": "python3"
  },
  "language_info": {
   "name": "python",
   "version": "3.13.7"
  }
 },
 "nbformat": 4,
 "nbformat_minor": 5
}
